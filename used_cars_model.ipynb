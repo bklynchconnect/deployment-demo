{
 "cells": [
  {
   "cell_type": "markdown",
   "metadata": {},
   "source": [
    "# Used Cars Price Prediction Model\n",
    "\n",
    "---\n",
    "\n",
    "This notebook demonstrates a simple model for predicting the price of a used car which will then be deployed using Flask and Streamlit."
   ]
  },
  {
   "cell_type": "code",
   "execution_count": 1,
   "metadata": {},
   "outputs": [],
   "source": [
    "# import basic modules for data\n",
    "import pandas as pd\n",
    "import numpy as np\n",
    "import seaborn as sb\n",
    "\n",
    "# import modelling modules\n",
    "from sklearn.linear_model import LinearRegression\n",
    "from sklearn.model_selection import train_test_split\n",
    "from sklearn.metrics import r2_score\n",
    "\n",
    "# import pickle to save and load files\n",
    "import pickle"
   ]
  },
  {
   "cell_type": "markdown",
   "metadata": {},
   "source": [
    "### Import data\n",
    "\n",
    "First we import the data into a dataframe, then adjust the selling price to be in dollars (we assume it is in cents in the original data)."
   ]
  },
  {
   "cell_type": "code",
   "execution_count": 2,
   "metadata": {},
   "outputs": [
    {
     "data": {
      "text/html": [
       "<div>\n",
       "<style scoped>\n",
       "    .dataframe tbody tr th:only-of-type {\n",
       "        vertical-align: middle;\n",
       "    }\n",
       "\n",
       "    .dataframe tbody tr th {\n",
       "        vertical-align: top;\n",
       "    }\n",
       "\n",
       "    .dataframe thead th {\n",
       "        text-align: right;\n",
       "    }\n",
       "</style>\n",
       "<table border=\"1\" class=\"dataframe\">\n",
       "  <thead>\n",
       "    <tr style=\"text-align: right;\">\n",
       "      <th></th>\n",
       "      <th>selling_price</th>\n",
       "      <th>year</th>\n",
       "      <th>km_driven</th>\n",
       "      <th>owners</th>\n",
       "      <th>kmpl</th>\n",
       "      <th>engine_cc</th>\n",
       "      <th>power_bhp</th>\n",
       "      <th>seats</th>\n",
       "    </tr>\n",
       "  </thead>\n",
       "  <tbody>\n",
       "    <tr>\n",
       "      <th>0</th>\n",
       "      <td>1300.0</td>\n",
       "      <td>2007</td>\n",
       "      <td>120000</td>\n",
       "      <td>1</td>\n",
       "      <td>16.10</td>\n",
       "      <td>1298</td>\n",
       "      <td>88.20</td>\n",
       "      <td>5</td>\n",
       "    </tr>\n",
       "    <tr>\n",
       "      <th>1</th>\n",
       "      <td>7780.0</td>\n",
       "      <td>2016</td>\n",
       "      <td>70000</td>\n",
       "      <td>2</td>\n",
       "      <td>24.52</td>\n",
       "      <td>1248</td>\n",
       "      <td>88.50</td>\n",
       "      <td>7</td>\n",
       "    </tr>\n",
       "    <tr>\n",
       "      <th>2</th>\n",
       "      <td>5000.0</td>\n",
       "      <td>2012</td>\n",
       "      <td>53000</td>\n",
       "      <td>2</td>\n",
       "      <td>23.00</td>\n",
       "      <td>1396</td>\n",
       "      <td>90.00</td>\n",
       "      <td>5</td>\n",
       "    </tr>\n",
       "    <tr>\n",
       "      <th>3</th>\n",
       "      <td>6000.0</td>\n",
       "      <td>2012</td>\n",
       "      <td>72000</td>\n",
       "      <td>1</td>\n",
       "      <td>21.50</td>\n",
       "      <td>1248</td>\n",
       "      <td>88.80</td>\n",
       "      <td>5</td>\n",
       "    </tr>\n",
       "    <tr>\n",
       "      <th>4</th>\n",
       "      <td>11490.0</td>\n",
       "      <td>2019</td>\n",
       "      <td>5000</td>\n",
       "      <td>1</td>\n",
       "      <td>17.00</td>\n",
       "      <td>1591</td>\n",
       "      <td>121.30</td>\n",
       "      <td>5</td>\n",
       "    </tr>\n",
       "    <tr>\n",
       "      <th>...</th>\n",
       "      <td>...</td>\n",
       "      <td>...</td>\n",
       "      <td>...</td>\n",
       "      <td>...</td>\n",
       "      <td>...</td>\n",
       "      <td>...</td>\n",
       "      <td>...</td>\n",
       "      <td>...</td>\n",
       "    </tr>\n",
       "    <tr>\n",
       "      <th>1590</th>\n",
       "      <td>4250.0</td>\n",
       "      <td>2017</td>\n",
       "      <td>12000</td>\n",
       "      <td>1</td>\n",
       "      <td>23.10</td>\n",
       "      <td>998</td>\n",
       "      <td>67.04</td>\n",
       "      <td>5</td>\n",
       "    </tr>\n",
       "    <tr>\n",
       "      <th>1591</th>\n",
       "      <td>4250.0</td>\n",
       "      <td>2014</td>\n",
       "      <td>50000</td>\n",
       "      <td>1</td>\n",
       "      <td>23.59</td>\n",
       "      <td>1364</td>\n",
       "      <td>67.06</td>\n",
       "      <td>5</td>\n",
       "    </tr>\n",
       "    <tr>\n",
       "      <th>1592</th>\n",
       "      <td>4250.0</td>\n",
       "      <td>2010</td>\n",
       "      <td>129000</td>\n",
       "      <td>1</td>\n",
       "      <td>12.80</td>\n",
       "      <td>2494</td>\n",
       "      <td>102.00</td>\n",
       "      <td>8</td>\n",
       "    </tr>\n",
       "    <tr>\n",
       "      <th>1593</th>\n",
       "      <td>400.0</td>\n",
       "      <td>1997</td>\n",
       "      <td>120000</td>\n",
       "      <td>1</td>\n",
       "      <td>16.10</td>\n",
       "      <td>796</td>\n",
       "      <td>37.00</td>\n",
       "      <td>4</td>\n",
       "    </tr>\n",
       "    <tr>\n",
       "      <th>1594</th>\n",
       "      <td>3820.0</td>\n",
       "      <td>2009</td>\n",
       "      <td>120000</td>\n",
       "      <td>1</td>\n",
       "      <td>19.30</td>\n",
       "      <td>1248</td>\n",
       "      <td>73.90</td>\n",
       "      <td>5</td>\n",
       "    </tr>\n",
       "  </tbody>\n",
       "</table>\n",
       "<p>1595 rows × 8 columns</p>\n",
       "</div>"
      ],
      "text/plain": [
       "      selling_price  year  km_driven  owners   kmpl  engine_cc  power_bhp  \\\n",
       "0            1300.0  2007     120000       1  16.10       1298      88.20   \n",
       "1            7780.0  2016      70000       2  24.52       1248      88.50   \n",
       "2            5000.0  2012      53000       2  23.00       1396      90.00   \n",
       "3            6000.0  2012      72000       1  21.50       1248      88.80   \n",
       "4           11490.0  2019       5000       1  17.00       1591     121.30   \n",
       "...             ...   ...        ...     ...    ...        ...        ...   \n",
       "1590         4250.0  2017      12000       1  23.10        998      67.04   \n",
       "1591         4250.0  2014      50000       1  23.59       1364      67.06   \n",
       "1592         4250.0  2010     129000       1  12.80       2494     102.00   \n",
       "1593          400.0  1997     120000       1  16.10        796      37.00   \n",
       "1594         3820.0  2009     120000       1  19.30       1248      73.90   \n",
       "\n",
       "      seats  \n",
       "0         5  \n",
       "1         7  \n",
       "2         5  \n",
       "3         5  \n",
       "4         5  \n",
       "...     ...  \n",
       "1590      5  \n",
       "1591      5  \n",
       "1592      8  \n",
       "1593      4  \n",
       "1594      5  \n",
       "\n",
       "[1595 rows x 8 columns]"
      ]
     },
     "execution_count": 2,
     "metadata": {},
     "output_type": "execute_result"
    }
   ],
   "source": [
    "df = pd.read_csv('data/UsedCars2.csv')\n",
    "df['selling_price'] = df['selling_price']/100\n",
    "df"
   ]
  },
  {
   "cell_type": "markdown",
   "metadata": {},
   "source": [
    "### Model\n",
    "We'll build a simple linear regression model but first let's separate the features (`X`) and target (`y`) as well as split into train and test data."
   ]
  },
  {
   "cell_type": "code",
   "execution_count": 3,
   "metadata": {},
   "outputs": [],
   "source": [
    "X = df.drop(columns=['selling_price'])\n",
    "y = df['selling_price']\n",
    "\n",
    "X_train, X_test, y_train, y_test = train_test_split(X,y,test_size=0.2)"
   ]
  },
  {
   "cell_type": "markdown",
   "metadata": {},
   "source": [
    "We can now train the model, make predictions on each split, and look at the resulting model performance."
   ]
  },
  {
   "cell_type": "code",
   "execution_count": 4,
   "metadata": {},
   "outputs": [
    {
     "name": "stdout",
     "output_type": "stream",
     "text": [
      "Train R-squared: 0.6710561735217893\n",
      "Test R-squared: 0.6392818572452403\n"
     ]
    }
   ],
   "source": [
    "model = LinearRegression()\n",
    "model.fit(X_train,y_train)\n",
    "\n",
    "y_pred_train = model.predict(X_train)\n",
    "y_pred_test = model.predict(X_test)\n",
    "\n",
    "r2_train = r2_score(y_train,y_pred_train)\n",
    "r2_test = r2_score(y_test,y_pred_test)\n",
    "\n",
    "print(f\"Train R-squared: {r2_train}\")\n",
    "print(f\"Test R-squared: {r2_test}\")"
   ]
  },
  {
   "cell_type": "code",
   "execution_count": 5,
   "metadata": {},
   "outputs": [
    {
     "data": {
      "text/plain": [
       "<Axes: xlabel='selling_price'>"
      ]
     },
     "execution_count": 5,
     "metadata": {},
     "output_type": "execute_result"
    },
    {
     "data": {
      "image/png": "[encoded data removed]",
      "text/plain": [
       "<Figure size 640x480 with 1 Axes>"
      ]
     },
     "metadata": {},
     "output_type": "display_data"
    }
   ],
   "source": [
    "sb.lineplot(x=[0, 60000],y=[0, 60000],c='k')\n",
    "sb.scatterplot(x=y_train,y=y_pred_train)\n",
    "sb.scatterplot(x=y_test,y=y_pred_test)"
   ]
  },
  {
   "cell_type": "markdown",
   "metadata": {},
   "source": [
    "### Saving\n",
    "\n",
    "We'll save our model in a pickle file for later use."
   ]
  },
  {
   "cell_type": "code",
   "execution_count": 6,
   "metadata": {},
   "outputs": [],
   "source": [
    "with open('models/model.pkl','wb') as f:\n",
    "    pickle.dump(model,f)"
   ]
  }
 ],
 "metadata": {
  "kernelspec": {
   "display_name": "Python 3",
   "language": "python",
   "name": "python3"
  },
  "language_info": {
   "codemirror_mode": {
    "name": "ipython",
    "version": 3
   },
   "file_extension": ".py",
   "mimetype": "text/x-python",
   "name": "python",
   "nbconvert_exporter": "python",
   "pygments_lexer": "ipython3",
   "version": "3.10.7"
  }
 },
 "nbformat": 4,
 "nbformat_minor": 2
}
