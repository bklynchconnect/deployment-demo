{
 "cells": [
  {
   "cell_type": "markdown",
   "metadata": {},
   "source": [
    "# Used Cars Prediction Model Inference\n",
    "\n",
    "---\n",
    "\n",
    "This notebook demonstrates simply how we can load our previously trained model from the saved pickle file and run it on any new data."
   ]
  },
  {
   "cell_type": "code",
   "execution_count": 1,
   "metadata": {},
   "outputs": [],
   "source": [
    "import pickle\n",
    "import numpy as np\n",
    "import pandas as pd\n",
    "import requests"
   ]
  },
  {
   "cell_type": "markdown",
   "metadata": {},
   "source": [
    "### Load model\n",
    "\n",
    "Let's load our previously constructed model from the saved pickle file."
   ]
  },
  {
   "cell_type": "code",
   "execution_count": 2,
   "metadata": {},
   "outputs": [],
   "source": [
    "with open('models/model.pkl','rb') as f:\n",
    "    model = pickle.load(f)"
   ]
  },
  {
   "cell_type": "markdown",
   "metadata": {},
   "source": [
    "### Inference on new data\n",
    "\n",
    "Now we can set up a new data point (arbitrarily) and run the model to get a prediction. We'll do this by matching the required columns in a list, creating the features in an array, then packaging them together in a new dataframe."
   ]
  },
  {
   "cell_type": "code",
   "execution_count": 3,
   "metadata": {},
   "outputs": [],
   "source": [
    "# feature columns\n",
    "columns = ['year', 'km_driven', 'owners', 'kmpl', 'engine_cc', 'power_bhp', 'seats']\n",
    "\n",
    "# new data point\n",
    "X_new = np.array([\n",
    "    2019,\n",
    "    40000,\n",
    "    1,\n",
    "    8,\n",
    "    1500,\n",
    "    300,\n",
    "    4\n",
    "])\n",
    "\n",
    "# columns and new data packaged as a dataframe (note we need to explictly convert the array to be 1xN -- 1 row with N columns)\n",
    "df_new = pd.DataFrame(data=X_new.reshape(1,-1),columns=columns)"
   ]
  },
  {
   "cell_type": "markdown",
   "metadata": {},
   "source": [
    "Now we can run the model to predict the selling price for this new data point."
   ]
  },
  {
   "cell_type": "code",
   "execution_count": 4,
   "metadata": {},
   "outputs": [
    {
     "name": "stdout",
     "output_type": "stream",
     "text": [
      "Predicted selling price: 44056.17003828124\n"
     ]
    }
   ],
   "source": [
    "y_new = model.predict(df_new)\n",
    "print(f\"Predicted selling price: {y_new[0]}\")"
   ]
  },
  {
   "cell_type": "markdown",
   "metadata": {},
   "source": [
    "# Prediction through Flask app\n",
    "\n",
    "If we're running our Flask app (see `app.py`) then we can set up our new data point as a dictionary and use our prediction end-point with a requests post."
   ]
  },
  {
   "cell_type": "code",
   "execution_count": 5,
   "metadata": {},
   "outputs": [],
   "source": [
    "# set up dictionary for new data point\n",
    "X_new = {\n",
    "    'year': 2019,\n",
    "    'km_driven': 40000,\n",
    "    'owners': 1,\n",
    "    'kmpl': 8,\n",
    "    'engine_cc': 1500,\n",
    "    'power_bhp': 300,\n",
    "    'seats': 4\n",
    "}"
   ]
  },
  {
   "cell_type": "code",
   "execution_count": 6,
   "metadata": {},
   "outputs": [
    {
     "name": "stdout",
     "output_type": "stream",
     "text": [
      "Error making request... is the Flask app running?\n"
     ]
    }
   ],
   "source": [
    "# make post request to get prediction back\n",
    "try:\n",
    "    response = requests.post('http://192.168.0.13:5555/predict_sell_price',json=X_new)\n",
    "    print(response.json())\n",
    "except:\n",
    "    print('Error making request... is the Flask app running?')"
   ]
  }
 ],
 "metadata": {
  "kernelspec": {
   "display_name": "Python 3",
   "language": "python",
   "name": "python3"
  },
  "language_info": {
   "codemirror_mode": {
    "name": "ipython",
    "version": 3
   },
   "file_extension": ".py",
   "mimetype": "text/x-python",
   "name": "python",
   "nbconvert_exporter": "python",
   "pygments_lexer": "ipython3",
   "version": "3.10.7"
  }
 },
 "nbformat": 4,
 "nbformat_minor": 2
}
